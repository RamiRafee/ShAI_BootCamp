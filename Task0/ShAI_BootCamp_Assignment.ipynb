{
 "cells": [
  {
   "cell_type": "markdown",
   "metadata": {
    "id": "9veqgG-LVKd3"
   },
   "source": [
    "# About Dataset\n",
    "salaries dataset generally provides information about the employees of an organization in relation to their compensation. It typically includes details such as how much each employee is paid (their salary), their job titles, the departments they work in, and possibly additional information like their level of experience, education, and employment history within the organization."
   ]
  },
  {
   "cell_type": "markdown",
   "metadata": {
    "id": "cZwHdpBfVzOh"
   },
   "source": [
    "# Features\n",
    "- 'Id'\n",
    "- 'EmployeeName'\n",
    "- 'JobTitle'\n",
    "- 'BasePay'\n",
    "- 'OvertimePay'\n",
    "- 'OtherPay'\n",
    "- 'Benefits'\n",
    "- 'TotalPay' -> salary\n",
    "- 'TotalPayBenefits'\n",
    "- 'Year'\n",
    "- 'Notes'\n",
    "- 'Agency'\n",
    "- 'Status'\n"
   ]
  },
  {
   "cell_type": "markdown",
   "metadata": {
    "id": "X1VJposzVrSF"
   },
   "source": [
    "# Tasks\n",
    "\n",
    "1. **Basic Data Exploration**: Identify the number of rows and columns in the dataset, determine the data types of each column, and check for missing values in each column.\n",
    "\n",
    "2. **Descriptive Statistics**: Calculate basic statistics mean, median, mode, minimum, and maximum salary, determine the range of salaries, and find the standard deviation.\n",
    "\n",
    "3. **Data Cleaning**: Handle missing data by suitable method with explain why you use it.\n",
    "\n",
    "4. **Basic Data Visualization**: Create histograms or bar charts to visualize the distribution of salaries, and use pie charts to represent the proportion of employees in different departments.\n",
    "\n",
    "5. **Grouped Analysis**: Group the data by one or more columns and calculate summary statistics for each group, and compare the average salaries across different groups.\n",
    "\n",
    "6. **Simple Correlation Analysis**: Identify any correlation between salary and another numerical column, and plot a scatter plot to visualize the relationship.\n",
    "\n",
    "8. **Summary of Insights**: Write a brief report summarizing the findings and insights from the analyses."
   ]
  },
  {
   "cell_type": "markdown",
   "metadata": {
    "id": "8_rNdHiGUT6A"
   },
   "source": [
    "# Very Important Note\n",
    "There is no fixed or singular solution for this assignment, so if anything is not clear, please do what you understand and provide an explanation."
   ]
  },
  {
   "cell_type": "code",
   "execution_count": 30,
   "metadata": {
    "colab": {
     "base_uri": "https://localhost:8080/",
     "height": 486
    },
    "id": "KmZfk5xkXI2y",
    "outputId": "e77ffddb-f533-4bac-d15a-3ea9f42b7890"
   },
   "outputs": [
    {
     "data": {
      "text/html": [
       "<div>\n",
       "<style scoped>\n",
       "    .dataframe tbody tr th:only-of-type {\n",
       "        vertical-align: middle;\n",
       "    }\n",
       "\n",
       "    .dataframe tbody tr th {\n",
       "        vertical-align: top;\n",
       "    }\n",
       "\n",
       "    .dataframe thead th {\n",
       "        text-align: right;\n",
       "    }\n",
       "</style>\n",
       "<table border=\"1\" class=\"dataframe\">\n",
       "  <thead>\n",
       "    <tr style=\"text-align: right;\">\n",
       "      <th></th>\n",
       "      <th>Id</th>\n",
       "      <th>EmployeeName</th>\n",
       "      <th>JobTitle</th>\n",
       "      <th>BasePay</th>\n",
       "      <th>OvertimePay</th>\n",
       "      <th>OtherPay</th>\n",
       "      <th>Benefits</th>\n",
       "      <th>TotalPay</th>\n",
       "      <th>TotalPayBenefits</th>\n",
       "      <th>Year</th>\n",
       "      <th>Notes</th>\n",
       "      <th>Agency</th>\n",
       "      <th>Status</th>\n",
       "    </tr>\n",
       "  </thead>\n",
       "  <tbody>\n",
       "    <tr>\n",
       "      <th>0</th>\n",
       "      <td>1</td>\n",
       "      <td>NATHANIEL FORD</td>\n",
       "      <td>GENERAL MANAGER-METROPOLITAN TRANSIT AUTHORITY</td>\n",
       "      <td>167411.18</td>\n",
       "      <td>0.00</td>\n",
       "      <td>400184.25</td>\n",
       "      <td>NaN</td>\n",
       "      <td>567595.43</td>\n",
       "      <td>567595.43</td>\n",
       "      <td>2011</td>\n",
       "      <td>NaN</td>\n",
       "      <td>San Francisco</td>\n",
       "      <td>NaN</td>\n",
       "    </tr>\n",
       "    <tr>\n",
       "      <th>1</th>\n",
       "      <td>2</td>\n",
       "      <td>GARY JIMENEZ</td>\n",
       "      <td>CAPTAIN III (POLICE DEPARTMENT)</td>\n",
       "      <td>155966.02</td>\n",
       "      <td>245131.88</td>\n",
       "      <td>137811.38</td>\n",
       "      <td>NaN</td>\n",
       "      <td>538909.28</td>\n",
       "      <td>538909.28</td>\n",
       "      <td>2011</td>\n",
       "      <td>NaN</td>\n",
       "      <td>San Francisco</td>\n",
       "      <td>NaN</td>\n",
       "    </tr>\n",
       "    <tr>\n",
       "      <th>2</th>\n",
       "      <td>3</td>\n",
       "      <td>ALBERT PARDINI</td>\n",
       "      <td>CAPTAIN III (POLICE DEPARTMENT)</td>\n",
       "      <td>212739.13</td>\n",
       "      <td>106088.18</td>\n",
       "      <td>16452.60</td>\n",
       "      <td>NaN</td>\n",
       "      <td>335279.91</td>\n",
       "      <td>335279.91</td>\n",
       "      <td>2011</td>\n",
       "      <td>NaN</td>\n",
       "      <td>San Francisco</td>\n",
       "      <td>NaN</td>\n",
       "    </tr>\n",
       "    <tr>\n",
       "      <th>3</th>\n",
       "      <td>4</td>\n",
       "      <td>CHRISTOPHER CHONG</td>\n",
       "      <td>WIRE ROPE CABLE MAINTENANCE MECHANIC</td>\n",
       "      <td>77916.00</td>\n",
       "      <td>56120.71</td>\n",
       "      <td>198306.90</td>\n",
       "      <td>NaN</td>\n",
       "      <td>332343.61</td>\n",
       "      <td>332343.61</td>\n",
       "      <td>2011</td>\n",
       "      <td>NaN</td>\n",
       "      <td>San Francisco</td>\n",
       "      <td>NaN</td>\n",
       "    </tr>\n",
       "    <tr>\n",
       "      <th>4</th>\n",
       "      <td>5</td>\n",
       "      <td>PATRICK GARDNER</td>\n",
       "      <td>DEPUTY CHIEF OF DEPARTMENT,(FIRE DEPARTMENT)</td>\n",
       "      <td>134401.60</td>\n",
       "      <td>9737.00</td>\n",
       "      <td>182234.59</td>\n",
       "      <td>NaN</td>\n",
       "      <td>326373.19</td>\n",
       "      <td>326373.19</td>\n",
       "      <td>2011</td>\n",
       "      <td>NaN</td>\n",
       "      <td>San Francisco</td>\n",
       "      <td>NaN</td>\n",
       "    </tr>\n",
       "  </tbody>\n",
       "</table>\n",
       "</div>"
      ],
      "text/plain": [
       "   Id       EmployeeName                                        JobTitle  \\\n",
       "0   1     NATHANIEL FORD  GENERAL MANAGER-METROPOLITAN TRANSIT AUTHORITY   \n",
       "1   2       GARY JIMENEZ                 CAPTAIN III (POLICE DEPARTMENT)   \n",
       "2   3     ALBERT PARDINI                 CAPTAIN III (POLICE DEPARTMENT)   \n",
       "3   4  CHRISTOPHER CHONG            WIRE ROPE CABLE MAINTENANCE MECHANIC   \n",
       "4   5    PATRICK GARDNER    DEPUTY CHIEF OF DEPARTMENT,(FIRE DEPARTMENT)   \n",
       "\n",
       "     BasePay  OvertimePay   OtherPay  Benefits   TotalPay  TotalPayBenefits  \\\n",
       "0  167411.18         0.00  400184.25       NaN  567595.43         567595.43   \n",
       "1  155966.02    245131.88  137811.38       NaN  538909.28         538909.28   \n",
       "2  212739.13    106088.18   16452.60       NaN  335279.91         335279.91   \n",
       "3   77916.00     56120.71  198306.90       NaN  332343.61         332343.61   \n",
       "4  134401.60      9737.00  182234.59       NaN  326373.19         326373.19   \n",
       "\n",
       "   Year  Notes         Agency  Status  \n",
       "0  2011    NaN  San Francisco     NaN  \n",
       "1  2011    NaN  San Francisco     NaN  \n",
       "2  2011    NaN  San Francisco     NaN  \n",
       "3  2011    NaN  San Francisco     NaN  \n",
       "4  2011    NaN  San Francisco     NaN  "
      ]
     },
     "execution_count": 30,
     "metadata": {},
     "output_type": "execute_result"
    }
   ],
   "source": [
    "import pandas as pd\n",
    "import numpy as np\n",
    "import matplotlib.pyplot as plt\n",
    "# Load your dataset\n",
    "df = pd.read_csv('Salaries.csv')\n",
    "df.head()\n"
   ]
  },
  {
   "cell_type": "code",
   "execution_count": 31,
   "metadata": {
    "colab": {
     "base_uri": "https://localhost:8080/"
    },
    "id": "xIT514wlvvBZ",
    "outputId": "9ecf152c-554a-4cf6-d667-efc95c16d489"
   },
   "outputs": [
    {
     "data": {
      "text/plain": [
       "Index(['Id', 'EmployeeName', 'JobTitle', 'BasePay', 'OvertimePay', 'OtherPay',\n",
       "       'Benefits', 'TotalPay', 'TotalPayBenefits', 'Year', 'Notes', 'Agency',\n",
       "       'Status'],\n",
       "      dtype='object')"
      ]
     },
     "execution_count": 31,
     "metadata": {},
     "output_type": "execute_result"
    }
   ],
   "source": [
    "df.columns"
   ]
  },
  {
   "cell_type": "markdown",
   "metadata": {
    "id": "bbIN2ujHUyRx"
   },
   "source": [
    "# 1.Basic Data Exploration\n",
    "<a id='1'></a>"
   ]
  },
  {
   "cell_type": "code",
   "execution_count": 32,
   "metadata": {
    "id": "_dovy31FUyUF"
   },
   "outputs": [
    {
     "name": "stdout",
     "output_type": "stream",
     "text": [
      "Number of rows: 148654\n",
      "Number of columns: 13\n",
      "********************\n",
      "\n",
      "Data types of each column:\n",
      "Id                    int64\n",
      "EmployeeName         object\n",
      "JobTitle             object\n",
      "BasePay             float64\n",
      "OvertimePay         float64\n",
      "OtherPay            float64\n",
      "Benefits            float64\n",
      "TotalPay            float64\n",
      "TotalPayBenefits    float64\n",
      "Year                  int64\n",
      "Notes               float64\n",
      "Agency               object\n",
      "Status              float64\n",
      "dtype: object\n",
      "********************\n",
      "\n",
      "Missing values in each column:\n",
      "Id                       0\n",
      "EmployeeName             0\n",
      "JobTitle                 0\n",
      "BasePay                609\n",
      "OvertimePay              4\n",
      "OtherPay                 4\n",
      "Benefits             36163\n",
      "TotalPay                 0\n",
      "TotalPayBenefits         0\n",
      "Year                     0\n",
      "Notes               148654\n",
      "Agency                   0\n",
      "Status              148654\n",
      "dtype: int64\n"
     ]
    }
   ],
   "source": [
    "\n",
    "\n",
    "# Identify the number of rows and columns\n",
    "rows, columns = df.shape\n",
    "print(f\"Number of rows: {rows}\")\n",
    "print(f\"Number of columns: {columns}\",\"*\"*20,sep='\\n')\n",
    "\n",
    "# Determine data types of each column\n",
    "data_types = df.dtypes\n",
    "print(\"\\nData types of each column:\")\n",
    "print(data_types,\"*\"*20,sep='\\n')\n",
    "\n",
    "# Check for missing values in each column\n",
    "missing_values = df.isnull().sum()\n",
    "print(\"\\nMissing values in each column:\")\n",
    "print(missing_values)"
   ]
  },
  {
   "cell_type": "markdown",
   "metadata": {},
   "source": [
    "# 2.Descriptive Statistics\n",
    "<a id='2'></a>"
   ]
  },
  {
   "cell_type": "code",
   "execution_count": 33,
   "metadata": {},
   "outputs": [
    {
     "name": "stdout",
     "output_type": "stream",
     "text": [
      "\n",
      "Basic statistics:\n",
      "             BasePay    OvertimePay       OtherPay       Benefits  \\\n",
      "count  148045.000000  148650.000000  148650.000000  112491.000000   \n",
      "mean    66325.448841    5066.059886    3648.767297   25007.893151   \n",
      "std     42764.635495   11454.380559    8056.601866   15402.215858   \n",
      "min      -166.010000      -0.010000   -7058.590000     -33.890000   \n",
      "25%     33588.200000       0.000000       0.000000   11535.395000   \n",
      "50%     65007.450000       0.000000     811.270000   28628.620000   \n",
      "75%     94691.050000    4658.175000    4236.065000   35566.855000   \n",
      "max    319275.010000  245131.880000  400184.250000   96570.660000   \n",
      "\n",
      "            TotalPay  TotalPayBenefits  \n",
      "count  148654.000000     148654.000000  \n",
      "mean    74768.321972      93692.554811  \n",
      "std     50517.005274      62793.533483  \n",
      "min      -618.130000       -618.130000  \n",
      "25%     36168.995000      44065.650000  \n",
      "50%     71426.610000      92404.090000  \n",
      "75%    105839.135000     132876.450000  \n",
      "max    567595.430000     567595.430000  \n",
      "********************\n",
      "\n",
      "Range of salaries: 568213.56\n",
      "********************\n",
      "\n",
      "Standard deviation of salaries: 50517.005273949944\n"
     ]
    }
   ],
   "source": [
    "# Calculate basic statistics\n",
    "basic_stats = df[['BasePay', 'OvertimePay', 'OtherPay', 'Benefits', 'TotalPay', 'TotalPayBenefits']].describe()\n",
    "print(\"\\nBasic statistics:\")\n",
    "print(basic_stats,\"*\"*20,sep='\\n')\n",
    "\n",
    "# Determine the range of salaries\n",
    "salary_range = df['TotalPay'].max() - df['TotalPay'].min()\n",
    "print(f\"\\nRange of salaries: {salary_range}\",\"*\"*20,sep='\\n')\n",
    "\n",
    "# Find the standard deviation of salaries\n",
    "salary_std_dev = df['TotalPay'].std()\n",
    "print(f\"\\nStandard deviation of salaries: {salary_std_dev}\")\n"
   ]
  },
  {
   "cell_type": "markdown",
   "metadata": {},
   "source": [
    "# 3. Data Cleaning \n",
    "<a id='3'></a>\n",
    "<p style='color:red'> -Used the median because the data is skewd, if it was normally distributed would have used the mean</p>\n",
    "<p style='color:red'> -Dropped the values for 'OvertimePay' and 'OtherPay' because they are only 4</p>"
   ]
  },
  {
   "cell_type": "code",
   "execution_count": null,
   "metadata": {},
   "outputs": [],
   "source": [
    "# Create a histogram of the columns with missing data\n",
    "df[['BasePay', 'OvertimePay', 'OtherPay', 'Benefits']].hist(bins=10, figsize=(10, 7))\n",
    "plt.suptitle(\"Histogram of BasePay, OvertimePay, OtherPay, and Benefits\", fontsize=16)\n",
    "plt.show()"
   ]
  },
  {
   "cell_type": "code",
   "execution_count": null,
   "metadata": {},
   "outputs": [],
   "source": [
    "# Fill missing values with the mean\n",
    "df['BasePay'].fillna(df['BasePay'].median(), inplace=True)\n",
    "df.dropna(subset=['OvertimePay'], inplace=True)\n",
    "df.dropna(subset=['OtherPay'], inplace=True)\n",
    "df['Benefits'].fillna(df['Benefits'].median(), inplace=True)"
   ]
  },
  {
   "cell_type": "code",
   "execution_count": null,
   "metadata": {},
   "outputs": [],
   "source": [
    "# Check for missing values in each column\n",
    "missing_values = df.isnull().sum()\n",
    "print(\"\\nMissing values in each column:\")\n",
    "print(missing_values)"
   ]
  },
  {
   "cell_type": "markdown",
   "metadata": {},
   "source": [
    "# 4.Basic Data Visualization\n",
    "<a id='4'></a>"
   ]
  },
  {
   "cell_type": "code",
   "execution_count": null,
   "metadata": {},
   "outputs": [],
   "source": [
    "import matplotlib.pyplot as plt\n",
    "\n",
    "# Create histograms to visualize the distribution of salaries\n",
    "plt.hist(df['TotalPay'], bins=20, color='skyblue', edgecolor='black')\n",
    "plt.title('Distribution of Salaries')\n",
    "plt.xlabel('Total Pay')\n",
    "plt.ylabel('Frequency')\n",
    "plt.show()\n",
    "\n",
    "# Use pie charts to represent the proportion of employees in different departments\n",
    "department_counts = df['JobTitle'].value_counts()\n",
    "top_departments = department_counts.head(5)  # Displaying the top 5 departments\n",
    "plt.pie(top_departments, labels=top_departments.index, autopct='%1.1f%%', startangle=90)\n",
    "plt.title('Proportion of Employees in Different Departments')\n",
    "plt.show()\n"
   ]
  },
  {
   "cell_type": "markdown",
   "metadata": {},
   "source": [
    "# 5.Grouped Analysis\n",
    "<a id='5'></a>"
   ]
  },
  {
   "cell_type": "code",
   "execution_count": null,
   "metadata": {},
   "outputs": [],
   "source": [
    "average_salaries_by_department = df.groupby('JobTitle')['TotalPay'].mean()\n",
    "\n",
    "# Compare average salaries across different departments\n",
    "print(\"\\nAverage Salaries by Department:\")\n",
    "print(average_salaries_by_department)"
   ]
  },
  {
   "cell_type": "markdown",
   "metadata": {},
   "source": [
    "# 6.Simple Correlation Analysis\n",
    "<a id='6'></a>"
   ]
  },
  {
   "cell_type": "code",
   "execution_count": null,
   "metadata": {},
   "outputs": [],
   "source": [
    "# Identify correlation between 'TotalPay' and all other numerical columns\n",
    "correlation_all = df[['TotalPay', 'BasePay', 'OvertimePay', 'OtherPay', 'Benefits', 'TotalPayBenefits']].corr()\n",
    "\n",
    "# Display correlation matrix\n",
    "print(\"\\nCorrelation Matrix:\")\n",
    "print(correlation_all)\n",
    "\n",
    "# Plot scatter plots to visualize the relationships\n",
    "numerical_columns = ['BasePay', 'OvertimePay', 'OtherPay', 'Benefits', 'TotalPayBenefits']\n",
    "\n",
    "for column in numerical_columns:\n",
    "    plt.scatter(df[column], df['TotalPay'], alpha=0.5)\n",
    "    plt.title(f'Scatter Plot: Salary vs {column}')\n",
    "    plt.xlabel(column)\n",
    "    plt.ylabel('Total Pay')\n",
    "    plt.show()\n"
   ]
  },
  {
   "cell_type": "markdown",
   "metadata": {},
   "source": [
    "# 7.Summary of Insights\n",
    "\n",
    "\n",
    "<!-- Basic Data Exploration -->\n",
    "<h3 style=\"color: #1f77b4;\"><a href=\"#1\" style=\"text-decoration: none; color: inherit;\">Basic Data Exploration</a></h3>\n",
    "<p>\n",
    "    From Basic Data Exploration, we can find that the 'Notes' and 'Status' columns are optional and don't contribute much to the data, as they are missing most of the values. It would be beneficial to remove these columns.\n",
    "</p>\n",
    "\n",
    "<!-- Basic Statistics -->\n",
    "<h3 style=\"color: #1f77b4;\"><a href=\"#2\" style=\"text-decoration: none; color: inherit;\">Basic Statistics:</a></h3>\n",
    "<p>\n",
    "    From Basic Statistics, we find that there are outliers that should be handled. For example, there are negative minimum values for salary columns.\n",
    "</p>\n",
    "\n",
    "<!-- Basic Data Visualization -->\n",
    "<h3 style=\"color: #1f77b4;\"><a href=\"#4\" style=\"text-decoration: none; color: inherit;\">Basic Data Visualization:</a></h3>\n",
    "<p>\n",
    "    From Basic Data Visualization, we observe that the 'TotalPay' is right-skewed.\n",
    "</p>\n",
    "\n",
    "<!-- Simple Correlation Analysis -->\n",
    "<h3 style=\"color: #1f77b4;\"><a href=\"#6\" style=\"text-decoration: none; color: inherit;\">Simple Correlation Analysis:</a></h3>\n",
    "<p>\n",
    "    From Simple Correlation Analysis, we find the following:\n",
    "</p>\n",
    "<ul>\n",
    "    <li>Good correlation between TotalPay and BasePay, TotalBenefits and Benefits.</li>\n",
    "    <li>The weird vertical lines in the Salary vs BasePay and Salary vs Benefits plots are the result of median filling.</li>\n",
    "</ul>\n"
   ]
  },
  {
   "cell_type": "markdown",
   "metadata": {
    "id": "HE9jbRjcUyoX"
   },
   "source": [
    "# Good Luck!"
   ]
  }
 ],
 "metadata": {
  "colab": {
   "provenance": []
  },
  "kernelspec": {
   "display_name": "Python 3 (ipykernel)",
   "language": "python",
   "name": "python3"
  },
  "language_info": {
   "codemirror_mode": {
    "name": "ipython",
    "version": 3
   },
   "file_extension": ".py",
   "mimetype": "text/x-python",
   "name": "python",
   "nbconvert_exporter": "python",
   "pygments_lexer": "ipython3",
   "version": "3.9.13"
  }
 },
 "nbformat": 4,
 "nbformat_minor": 1
}
